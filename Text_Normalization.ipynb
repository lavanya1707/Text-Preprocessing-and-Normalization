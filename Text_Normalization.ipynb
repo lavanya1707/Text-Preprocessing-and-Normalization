{
 "cells": [
  {
   "cell_type": "code",
   "execution_count": 12,
   "id": "d448986e",
   "metadata": {},
   "outputs": [],
   "source": [
    "import re\n",
    "import nltk\n",
    "from nltk.corpus import stopwords"
   ]
  },
  {
   "cell_type": "code",
   "execution_count": 13,
   "id": "0913d836",
   "metadata": {},
   "outputs": [
    {
     "name": "stderr",
     "output_type": "stream",
     "text": [
      "[nltk_data] Downloading package stopwords to\n",
      "[nltk_data]     C:\\Users\\lavanya\\AppData\\Roaming\\nltk_data...\n",
      "[nltk_data]   Package stopwords is already up-to-date!\n"
     ]
    }
   ],
   "source": [
    "nltk.download('stopwords')\n",
    "stop_words = set(stopwords.words('english'))"
   ]
  },
  {
   "cell_type": "code",
   "execution_count": 14,
   "id": "8ef64fb5",
   "metadata": {},
   "outputs": [],
   "source": [
    "string = \"Python 3.0, released in 2008, was a major revision of the language that is not completely backward compatible and much Python 2 code does not run unmodified on Python 3. With Python 2's end-of-life, only Python 3.6.x[30] and later are supported, with older versions still supporting e.g. Windows 7 (and old installers not restricted to 64-bit Windows).\""
   ]
  },
  {
   "cell_type": "code",
   "execution_count": 15,
   "id": "fc72b40d",
   "metadata": {},
   "outputs": [],
   "source": [
    "# convert to lower case\n",
    "lower_string = string.lower()"
   ]
  },
  {
   "cell_type": "code",
   "execution_count": 16,
   "id": "24460b2b",
   "metadata": {},
   "outputs": [],
   "source": [
    "# remove numbers\n",
    "no_number_string = re.sub(r'\\d+','',lower_string)"
   ]
  },
  {
   "cell_type": "code",
   "execution_count": 17,
   "id": "9baec6d2",
   "metadata": {},
   "outputs": [],
   "source": [
    "# remove all punctuation except words and space\n",
    "no_punc_string = re.sub(r'[^\\w\\s]','', no_number_string)\n"
   ]
  },
  {
   "cell_type": "code",
   "execution_count": 18,
   "id": "19c232bb",
   "metadata": {},
   "outputs": [
    {
     "data": {
      "text/plain": [
       "'python  released in  was a major revision of the language that is not completely backward compatible and much python  code does not run unmodified on python  with python s endoflife only python x and later are supported with older versions still supporting eg windows  and old installers not restricted to bit windows'"
      ]
     },
     "execution_count": 18,
     "metadata": {},
     "output_type": "execute_result"
    }
   ],
   "source": [
    "# remove white spaces\n",
    "no_wspace_string = no_punc_string.strip()\n",
    "no_wspace_string"
   ]
  },
  {
   "cell_type": "code",
   "execution_count": 19,
   "id": "fe87dff8",
   "metadata": {},
   "outputs": [],
   "source": [
    "# convert string to list of words\n",
    "lst_string = [no_wspace_string][0].split()"
   ]
  },
  {
   "cell_type": "code",
   "execution_count": 20,
   "id": "9fe6e3c7",
   "metadata": {},
   "outputs": [],
   "source": [
    "# remove stopwords\n",
    "no_stpwords_string=\"\"\n",
    "for i in lst_string:\n",
    "    if not i in stop_words:\n",
    "        no_stpwords_string = no_stpwords_string + i + ' '"
   ]
  },
  {
   "cell_type": "code",
   "execution_count": 21,
   "id": "978e2e55",
   "metadata": {},
   "outputs": [],
   "source": [
    "# removing last space\n",
    "no_stpwords_string = no_stpwords_string[:-1]"
   ]
  },
  {
   "cell_type": "code",
   "execution_count": 22,
   "id": "6c1db655",
   "metadata": {},
   "outputs": [
    {
     "name": "stdout",
     "output_type": "stream",
     "text": [
      "python released major revision language completely backward compatible much python code run unmodified python python endoflife python x later supported older versions still supporting eg windows old installers restricted bit windows\n"
     ]
    }
   ],
   "source": [
    "# output\n",
    "print(no_stpwords_string)"
   ]
  },
  {
   "cell_type": "code",
   "execution_count": null,
   "id": "c758980f",
   "metadata": {},
   "outputs": [],
   "source": []
  },
  {
   "cell_type": "code",
   "execution_count": 7,
   "id": "d593fb54",
   "metadata": {},
   "outputs": [
    {
     "name": "stdout",
     "output_type": "stream",
     "text": [
      "can't\n",
      "cant\n"
     ]
    }
   ],
   "source": [
    "import re\n",
    "import string\n",
    "from nltk.corpus import stopwords\n",
    "from nltk.stem import PorterStemmer\n",
    "\n",
    "def normalize_text(text):\n",
    "    # Convert all text to lowercase\n",
    "    text = text.lower()\n",
    "\n",
    "    # Remove all punctuation.\n",
    "    text = text.translate(str.maketrans('', '', string.punctuation))\n",
    "\n",
    "    # Remove all stop words.\n",
    "    stop_words = set(stopwords.words('english'))\n",
    "    text = [word for word in text.split() if word not in stop_words]\n",
    "\n",
    "    # Stem the words.\n",
    "    stemmer = PorterStemmer()\n",
    "    text = [stemmer.stem(word) for word in text]\n",
    "\n",
    "    return ' '.join(text)\n",
    "\n",
    "text = input()\n",
    "result = normalize_text(text)\n",
    "print(result)\n"
   ]
  },
  {
   "cell_type": "code",
   "execution_count": null,
   "id": "e3917e02",
   "metadata": {},
   "outputs": [],
   "source": []
  }
 ],
 "metadata": {
  "kernelspec": {
   "display_name": "nlp_env",
   "language": "python",
   "name": "nlp_env"
  },
  "language_info": {
   "codemirror_mode": {
    "name": "ipython",
    "version": 3
   },
   "file_extension": ".py",
   "mimetype": "text/x-python",
   "name": "python",
   "nbconvert_exporter": "python",
   "pygments_lexer": "ipython3",
   "version": "3.11.4"
  }
 },
 "nbformat": 4,
 "nbformat_minor": 5
}
